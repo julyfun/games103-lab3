{
 "cells": [
  {
   "cell_type": "code",
   "execution_count": 4,
   "metadata": {},
   "outputs": [
    {
     "data": {
      "text/latex": [
       "$\\displaystyle \\frac{1}{\\sqrt[3]{\\lambda_{1}^{2} \\lambda_{2}^{2} \\lambda_{3}^{2}}}$"
      ],
      "text/plain": [
       "(lambda1**2*lambda2**2*lambda3**2)**(-1/3)"
      ]
     },
     "execution_count": 4,
     "metadata": {},
     "output_type": "execute_result"
    }
   ],
   "source": [
    "from sympy import symbols, diff, exp, cbrt\n",
    "\n",
    "# 定义变量\n",
    "lambda1, lambda2, lambda3, s0, s1, s2, s3 = symbols('lambda1 lambda2 lambda3 s0 s1 s2 s3')\n",
    "\n",
    "# 定义给定的表达式\n",
    "I = lambda1**2 + lambda2**2 + lambda3**2\n",
    "sq1 = lambda1**2\n",
    "sq2 = lambda2**2\n",
    "sq3 = lambda3**2\n",
    "II = sq1**2 + sq2**2 + sq3**2\n",
    "J = lambda1 * lambda2 * lambda3\n",
    "sqrtIII = 1 / (lambda1 * lambda2 * lambda3)\n",
    "cbrtIII = 1 / cbrt(sq1 * sq2 * sq3)\n",
    "final = s0 * (cbrtIII * I - 3) + s1 * (J - 1)**2 + s2 * exp(s3 * (cbrtIII * I - 3) - 1)\n",
    "\n",
    "# 对 final 关于 lambda1 的导数进行计算\n",
    "derivative_lambda1 = diff(final, lambda1)\n",
    "derivative_lambda1\n",
    "# cbrtIII\n"
   ]
  },
  {
   "cell_type": "code",
   "execution_count": null,
   "metadata": {},
   "outputs": [],
   "source": []
  }
 ],
 "metadata": {
  "kernelspec": {
   "display_name": "cours",
   "language": "python",
   "name": "python3"
  },
  "language_info": {
   "codemirror_mode": {
    "name": "ipython",
    "version": 3
   },
   "file_extension": ".py",
   "mimetype": "text/x-python",
   "name": "python",
   "nbconvert_exporter": "python",
   "pygments_lexer": "ipython3",
   "version": "3.11.5"
  }
 },
 "nbformat": 4,
 "nbformat_minor": 2
}
